{
 "cells": [
  {
   "cell_type": "code",
   "execution_count": 2,
   "metadata": {},
   "outputs": [],
   "source": [
    "from bs4 import BeautifulSoup\n",
    "import requests\n",
    "import time\n",
    "import pandas as pd"
   ]
  },
  {
   "cell_type": "code",
   "execution_count": 96,
   "metadata": {},
   "outputs": [],
   "source": [
    "review_list = []\n",
    "for page_number in range(1,11):\n",
    "    time.sleep(2)\n",
    "    r = requests.get(f\"https://ca.trustpilot.com/review/tdbank.ca?page={page_number}&stars=1&stars=2\")\n",
    "    soup = BeautifulSoup(r.content, 'html.parser')\n",
    "    reviews = soup.find_all('p', {\"class\": \"review-content__text\"})\n",
    "    for review in reviews:\n",
    "        review_list.append(review.text.strip().replace('\\n', ''))"
   ]
  },
  {
   "cell_type": "code",
   "execution_count": 97,
   "metadata": {},
   "outputs": [],
   "source": [
    "df = pd.DataFrame()"
   ]
  },
  {
   "cell_type": "code",
   "execution_count": 98,
   "metadata": {},
   "outputs": [],
   "source": [
    "df['reviews'] = review_list"
   ]
  },
  {
   "cell_type": "code",
   "execution_count": 99,
   "metadata": {},
   "outputs": [],
   "source": [
    "df.to_csv('reviews.csv')"
   ]
  },
  {
   "cell_type": "code",
   "execution_count": 3,
   "metadata": {},
   "outputs": [
    {
     "name": "stderr",
     "output_type": "stream",
     "text": [
      "C:\\Users\\sinth\\anaconda3\\envs\\pyvizenv\\lib\\site-packages\\ipykernel_launcher.py:1: FutureWarning: from_csv is deprecated. Please use read_csv(...) instead. Note that some of the default arguments are different, so please refer to the documentation for from_csv when changing your function calls\n",
      "  \"\"\"Entry point for launching an IPython kernel.\n"
     ]
    }
   ],
   "source": [
    "df = pd.DataFrame.from_csv('reviews.csv')"
   ]
  },
  {
   "cell_type": "code",
   "execution_count": 4,
   "metadata": {},
   "outputs": [],
   "source": [
    "from nltk.tokenize import word_tokenize, sent_tokenize\n",
    "from nltk.corpus import stopwords\n",
    "from nltk.stem import WordNetLemmatizer, PorterStemmer\n",
    "from string import punctuation\n",
    "import re\n",
    "from collections import Counter\n",
    "from nltk import ngrams"
   ]
  },
  {
   "cell_type": "code",
   "execution_count": 5,
   "metadata": {},
   "outputs": [],
   "source": [
    "def tokenizer(text):\n",
    "    \"\"\"Tokenizes text.\"\"\"\n",
    "    \n",
    "    # Remove the punctuation\n",
    "    regex = re.compile(\"[^a-zA-Z ]\")\n",
    "    re_clean = regex.sub('',text )\n",
    "    # Create a list of the words\n",
    "    words = word_tokenize(re_clean)\n",
    "    # Convert the words to lowercase\n",
    "    words_lower = [word.lower() for word in words]\n",
    "    # Remove the stop words\n",
    "    sw = set(stopwords.words('english'))\n",
    "    words_no_sw = [word for word in words_lower if word not in sw]\n",
    "    # Lemmatize Words into root words\n",
    "    lemmatizer = WordNetLemmatizer()\n",
    "    tokens = [lemmatizer.lemmatize(word) for word in words_no_sw]\n",
    "    return tokens"
   ]
  },
  {
   "cell_type": "code",
   "execution_count": 6,
   "metadata": {},
   "outputs": [
    {
     "data": {
      "text/html": [
       "<div>\n",
       "<style scoped>\n",
       "    .dataframe tbody tr th:only-of-type {\n",
       "        vertical-align: middle;\n",
       "    }\n",
       "\n",
       "    .dataframe tbody tr th {\n",
       "        vertical-align: top;\n",
       "    }\n",
       "\n",
       "    .dataframe thead th {\n",
       "        text-align: right;\n",
       "    }\n",
       "</style>\n",
       "<table border=\"1\" class=\"dataframe\">\n",
       "  <thead>\n",
       "    <tr style=\"text-align: right;\">\n",
       "      <th></th>\n",
       "      <th>reviews</th>\n",
       "      <th>tokens</th>\n",
       "    </tr>\n",
       "  </thead>\n",
       "  <tbody>\n",
       "    <tr>\n",
       "      <th>0</th>\n",
       "      <td>Terrible customer Service 🤬, not a good experi...</td>\n",
       "      <td>[terrible, customer, service, good, experience...</td>\n",
       "    </tr>\n",
       "    <tr>\n",
       "      <th>1</th>\n",
       "      <td>Don't bank with them, worst bank ever who don'...</td>\n",
       "      <td>[dont, bank, worst, bank, ever, dont, treat, c...</td>\n",
       "    </tr>\n",
       "    <tr>\n",
       "      <th>2</th>\n",
       "      <td>On May 21 2020 I deposited $700 (new $20 bills...</td>\n",
       "      <td>[may, deposited, new, bill, atm, inside, left,...</td>\n",
       "    </tr>\n",
       "    <tr>\n",
       "      <th>3</th>\n",
       "      <td>WORST BANK EVER.  DON'T EVER BANK WITH THEM.  ...</td>\n",
       "      <td>[worst, bank, ever, dont, ever, bank, horrible...</td>\n",
       "    </tr>\n",
       "    <tr>\n",
       "      <th>4</th>\n",
       "      <td>They used to be great for students like me bef...</td>\n",
       "      <td>[used, great, student, like, covid, although, ...</td>\n",
       "    </tr>\n",
       "  </tbody>\n",
       "</table>\n",
       "</div>"
      ],
      "text/plain": [
       "                                             reviews  \\\n",
       "0  Terrible customer Service 🤬, not a good experi...   \n",
       "1  Don't bank with them, worst bank ever who don'...   \n",
       "2  On May 21 2020 I deposited $700 (new $20 bills...   \n",
       "3  WORST BANK EVER.  DON'T EVER BANK WITH THEM.  ...   \n",
       "4  They used to be great for students like me bef...   \n",
       "\n",
       "                                              tokens  \n",
       "0  [terrible, customer, service, good, experience...  \n",
       "1  [dont, bank, worst, bank, ever, dont, treat, c...  \n",
       "2  [may, deposited, new, bill, atm, inside, left,...  \n",
       "3  [worst, bank, ever, dont, ever, bank, horrible...  \n",
       "4  [used, great, student, like, covid, although, ...  "
      ]
     },
     "execution_count": 6,
     "metadata": {},
     "output_type": "execute_result"
    }
   ],
   "source": [
    "df['tokens'] = [tokenizer(text) for text in df['reviews']]\n",
    "df.head()"
   ]
  },
  {
   "cell_type": "code",
   "execution_count": 7,
   "metadata": {},
   "outputs": [],
   "source": [
    "def combine_tokens(tokens):\n",
    "    '''\n",
    "    Takes in a list of list of tokens and creates a single list with all the tokens\n",
    "    '''\n",
    "    all_tokens = []\n",
    "    for review_tokens in tokens:\n",
    "        for token in review_tokens:\n",
    "            all_tokens.append(token)\n",
    "    return all_tokens"
   ]
  },
  {
   "cell_type": "code",
   "execution_count": 17,
   "metadata": {},
   "outputs": [],
   "source": [
    "all_tokens = combine_tokens(df['tokens'])\n",
    "word_grams = ngrams(all_tokens, n=2)"
   ]
  },
  {
   "cell_type": "code",
   "execution_count": 18,
   "metadata": {},
   "outputs": [],
   "source": [
    "def token_count(word_grams, N=3):\n",
    "    \"\"\"Returns the top N tokens from the frequency count\"\"\"\n",
    "    return Counter(word_grams).most_common(N)"
   ]
  },
  {
   "cell_type": "code",
   "execution_count": 19,
   "metadata": {},
   "outputs": [
    {
     "name": "stdout",
     "output_type": "stream",
     "text": [
      "{('customer', 'service'): 88, ('td', 'bank'): 51, ('credit', 'card'): 30, ('worst', 'bank'): 23, ('canada', 'trust'): 13, ('close', 'account'): 13, ('bank', 'td'): 13, ('bank', 'account'): 12, ('bank', 'ever'): 11, ('td', 'canada'): 11, ('dont', 'know'): 9, ('horrible', 'customer'): 9, ('go', 'branch'): 9, ('wait', 'time'): 9, ('worst', 'customer'): 9, ('closing', 'account'): 8, ('bank', 'worst'): 8, ('even', 'though'): 8, ('money', 'account'): 8, ('td', 'year'): 8, ('phone', 'call'): 8, ('hold', 'hour'): 8, ('account', 'td'): 7, ('go', 'bank'): 7, ('answer', 'question'): 7, ('month', 'later'): 7, ('zero', 'star'): 7, ('line', 'credit'): 7, ('could', 'give'): 7, ('call', 'customer'): 7}\n"
     ]
    }
   ],
   "source": [
    "print(dict(token_count(word_grams,30)))"
   ]
  },
  {
   "cell_type": "code",
   "execution_count": 25,
   "metadata": {},
   "outputs": [],
   "source": [
    "dict = {\n",
    "        ('customer', 'service'): 88, \n",
    "        ('td', 'bank'): 51, \n",
    "        ('credit', 'card'): 30, \n",
    "        ('worst', 'bank'): 23, \n",
    "        ('canada', 'trust'): 13, \n",
    "        ('close', 'account'): 13, \n",
    "        ('bank', 'td'): 13, \n",
    "        ('bank', 'account'): 12, \n",
    "        ('bank', 'ever'): 11, \n",
    "        ('td', 'canada'): 11, \n",
    "        ('dont', 'know'): 9, \n",
    "        ('horrible', 'customer'): 9, \n",
    "        ('go', 'branch'): 9, \n",
    "        ('wait', 'time'): 9,\n",
    "        ('worst', 'customer'): 9, \n",
    "        ('closing', 'account'): 8, \n",
    "        ('bank', 'worst'): 8, \n",
    "        ('even', 'though'): 8, \n",
    "        ('money', 'account'): 8, \n",
    "        ('td', 'year'): 8, \n",
    "        ('phone', 'call'): 8, \n",
    "        ('hold', 'hour'): 8, \n",
    "        ('account', 'td'): 7, \n",
    "        ('go', 'bank'): 7, \n",
    "        ('answer', 'question'): 7, \n",
    "        ('month', 'later'): 7, \n",
    "        ('zero', 'star'): 7, \n",
    "        ('line', 'credit'): 7, \n",
    "        ('could', 'give'): 7, \n",
    "        ('call', 'customer'): 7\n",
    "       }\n",
    "df_output = pd.DataFrame.from_dict(dict, orient='index')"
   ]
  },
  {
   "cell_type": "code",
   "execution_count": 27,
   "metadata": {},
   "outputs": [],
   "source": [
    "df_output.to_csv('ngrams.csv')"
   ]
  },
  {
   "cell_type": "code",
   "execution_count": null,
   "metadata": {},
   "outputs": [],
   "source": []
  }
 ],
 "metadata": {
  "kernelspec": {
   "display_name": "Python [conda env:pyvizenv] *",
   "language": "python",
   "name": "conda-env-pyvizenv-py"
  },
  "language_info": {
   "codemirror_mode": {
    "name": "ipython",
    "version": 3
   },
   "file_extension": ".py",
   "mimetype": "text/x-python",
   "name": "python",
   "nbconvert_exporter": "python",
   "pygments_lexer": "ipython3",
   "version": "3.7.7"
  }
 },
 "nbformat": 4,
 "nbformat_minor": 4
}
